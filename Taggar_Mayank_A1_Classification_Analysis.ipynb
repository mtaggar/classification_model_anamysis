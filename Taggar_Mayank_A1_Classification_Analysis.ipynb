{
 "cells": [
  {
   "cell_type": "markdown",
   "metadata": {
    "deletable": false,
    "editable": false,
    "run_control": {
     "frozen": true
    }
   },
   "source": [
    "<hr style=\"height:.9px;border:none;color:#333;background-color:#333;\" />\n",
    "<br><br><br><br><br>\n",
    "<h1>Classification Model Development</h1>\n",
    "<em>Apprentice Chef Course Case</em><br><br>\n",
    "\n",
    "Submitted by Mayank Taggar <br>\n",
    "Hult International Business School <br><br><br><br>\n",
    "<br><br><br><br><br>\n",
    "<hr style=\"height:.9px;border:none;color:#333;background-color:#333;\" />\n",
    "<hr style=\"height:.9px;border:none;color:#333;background-color:#333;\" />\n",
    "<br>"
   ]
  },
  {
   "cell_type": "markdown",
   "metadata": {
    "deletable": false,
    "editable": false,
    "run_control": {
     "frozen": true
    }
   },
   "source": [
    "<h2> Data Overview</h2>\n",
    "This step includes understanding the data using, for that I used <br>\n",
    "&emsp;1 .shape() to know the number of features and observations <br>\n",
    "&emsp;2 .head() to know the feature head and also see the data <br>\n",
    "&emsp;3 .info() provides us information about the data types and missing values <br>\n",
    "<br>\n"
   ]
  },
  {
   "cell_type": "code",
   "execution_count": 1,
   "metadata": {},
   "outputs": [
    {
     "data": {
      "text/html": [
       "<div>\n",
       "<style scoped>\n",
       "    .dataframe tbody tr th:only-of-type {\n",
       "        vertical-align: middle;\n",
       "    }\n",
       "\n",
       "    .dataframe tbody tr th {\n",
       "        vertical-align: top;\n",
       "    }\n",
       "\n",
       "    .dataframe thead th {\n",
       "        text-align: right;\n",
       "    }\n",
       "</style>\n",
       "<table border=\"1\" class=\"dataframe\">\n",
       "  <thead>\n",
       "    <tr style=\"text-align: right;\">\n",
       "      <th></th>\n",
       "      <th>REVENUE</th>\n",
       "      <th>CROSS_SELL_SUCCESS</th>\n",
       "      <th>NAME</th>\n",
       "      <th>EMAIL</th>\n",
       "      <th>FIRST_NAME</th>\n",
       "      <th>FAMILY_NAME</th>\n",
       "      <th>TOTAL_MEALS_ORDERED</th>\n",
       "      <th>UNIQUE_MEALS_PURCH</th>\n",
       "      <th>CONTACTS_W_CUSTOMER_SERVICE</th>\n",
       "      <th>PRODUCT_CATEGORIES_VIEWED</th>\n",
       "      <th>AVG_TIME_PER_SITE_VISIT</th>\n",
       "      <th>MOBILE_NUMBER</th>\n",
       "      <th>CANCELLATIONS_BEFORE_NOON</th>\n",
       "      <th>CANCELLATIONS_AFTER_NOON</th>\n",
       "      <th>TASTES_AND_PREFERENCES</th>\n",
       "      <th>PC_LOGINS</th>\n",
       "      <th>MOBILE_LOGINS</th>\n",
       "      <th>WEEKLY_PLAN</th>\n",
       "      <th>EARLY_DELIVERIES</th>\n",
       "      <th>LATE_DELIVERIES</th>\n",
       "      <th>PACKAGE_LOCKER</th>\n",
       "      <th>REFRIGERATED_LOCKER</th>\n",
       "      <th>AVG_PREP_VID_TIME</th>\n",
       "      <th>LARGEST_ORDER_SIZE</th>\n",
       "      <th>MASTER_CLASSES_ATTENDED</th>\n",
       "      <th>MEDIAN_MEAL_RATING</th>\n",
       "      <th>AVG_CLICKS_PER_VISIT</th>\n",
       "      <th>TOTAL_PHOTOS_VIEWED</th>\n",
       "      <th>email_domain</th>\n",
       "      <th>domain_group_company</th>\n",
       "      <th>domain_group_junk</th>\n",
       "      <th>domain_group_personal</th>\n",
       "      <th>gender_guess_female</th>\n",
       "      <th>gender_guess_male</th>\n",
       "      <th>gender_guess_unknown</th>\n",
       "    </tr>\n",
       "  </thead>\n",
       "  <tbody>\n",
       "    <tr>\n",
       "      <th>0</th>\n",
       "      <td>393.0</td>\n",
       "      <td>1</td>\n",
       "      <td>Saathos</td>\n",
       "      <td>saathos@unitedhealth.com</td>\n",
       "      <td>Saathos</td>\n",
       "      <td>Saathos</td>\n",
       "      <td>14</td>\n",
       "      <td>6</td>\n",
       "      <td>12</td>\n",
       "      <td>10</td>\n",
       "      <td>48.00</td>\n",
       "      <td>1</td>\n",
       "      <td>3</td>\n",
       "      <td>1</td>\n",
       "      <td>1</td>\n",
       "      <td>5</td>\n",
       "      <td>2</td>\n",
       "      <td>0</td>\n",
       "      <td>0</td>\n",
       "      <td>2</td>\n",
       "      <td>0</td>\n",
       "      <td>0</td>\n",
       "      <td>33.4</td>\n",
       "      <td>1</td>\n",
       "      <td>0</td>\n",
       "      <td>1</td>\n",
       "      <td>17</td>\n",
       "      <td>0</td>\n",
       "      <td>unitedhealth.com</td>\n",
       "      <td>1</td>\n",
       "      <td>0</td>\n",
       "      <td>0</td>\n",
       "      <td>0</td>\n",
       "      <td>0</td>\n",
       "      <td>1</td>\n",
       "    </tr>\n",
       "    <tr>\n",
       "      <th>1</th>\n",
       "      <td>1365.0</td>\n",
       "      <td>1</td>\n",
       "      <td>Alysanne Osgrey</td>\n",
       "      <td>alysanne.osgrey@ge.org</td>\n",
       "      <td>Alysanne</td>\n",
       "      <td>Osgrey</td>\n",
       "      <td>87</td>\n",
       "      <td>3</td>\n",
       "      <td>8</td>\n",
       "      <td>8</td>\n",
       "      <td>40.35</td>\n",
       "      <td>1</td>\n",
       "      <td>0</td>\n",
       "      <td>0</td>\n",
       "      <td>1</td>\n",
       "      <td>5</td>\n",
       "      <td>1</td>\n",
       "      <td>12</td>\n",
       "      <td>0</td>\n",
       "      <td>2</td>\n",
       "      <td>0</td>\n",
       "      <td>0</td>\n",
       "      <td>84.8</td>\n",
       "      <td>1</td>\n",
       "      <td>0</td>\n",
       "      <td>3</td>\n",
       "      <td>13</td>\n",
       "      <td>170</td>\n",
       "      <td>ge.org</td>\n",
       "      <td>1</td>\n",
       "      <td>0</td>\n",
       "      <td>0</td>\n",
       "      <td>0</td>\n",
       "      <td>0</td>\n",
       "      <td>1</td>\n",
       "    </tr>\n",
       "    <tr>\n",
       "      <th>2</th>\n",
       "      <td>800.0</td>\n",
       "      <td>1</td>\n",
       "      <td>Edwyd Fossoway</td>\n",
       "      <td>edwyd.fossoway@jnj.com</td>\n",
       "      <td>Edwyd</td>\n",
       "      <td>Fossoway</td>\n",
       "      <td>15</td>\n",
       "      <td>7</td>\n",
       "      <td>11</td>\n",
       "      <td>5</td>\n",
       "      <td>19.77</td>\n",
       "      <td>1</td>\n",
       "      <td>3</td>\n",
       "      <td>0</td>\n",
       "      <td>1</td>\n",
       "      <td>6</td>\n",
       "      <td>1</td>\n",
       "      <td>1</td>\n",
       "      <td>0</td>\n",
       "      <td>1</td>\n",
       "      <td>0</td>\n",
       "      <td>0</td>\n",
       "      <td>63.0</td>\n",
       "      <td>1</td>\n",
       "      <td>0</td>\n",
       "      <td>2</td>\n",
       "      <td>16</td>\n",
       "      <td>0</td>\n",
       "      <td>jnj.com</td>\n",
       "      <td>1</td>\n",
       "      <td>0</td>\n",
       "      <td>0</td>\n",
       "      <td>0</td>\n",
       "      <td>0</td>\n",
       "      <td>1</td>\n",
       "    </tr>\n",
       "    <tr>\n",
       "      <th>3</th>\n",
       "      <td>600.0</td>\n",
       "      <td>1</td>\n",
       "      <td>Eleyna Westerling</td>\n",
       "      <td>eleyna.westerling@ge.org</td>\n",
       "      <td>Eleyna</td>\n",
       "      <td>Westerling</td>\n",
       "      <td>13</td>\n",
       "      <td>6</td>\n",
       "      <td>11</td>\n",
       "      <td>5</td>\n",
       "      <td>90.00</td>\n",
       "      <td>1</td>\n",
       "      <td>2</td>\n",
       "      <td>0</td>\n",
       "      <td>1</td>\n",
       "      <td>6</td>\n",
       "      <td>1</td>\n",
       "      <td>14</td>\n",
       "      <td>0</td>\n",
       "      <td>3</td>\n",
       "      <td>0</td>\n",
       "      <td>0</td>\n",
       "      <td>43.8</td>\n",
       "      <td>1</td>\n",
       "      <td>0</td>\n",
       "      <td>2</td>\n",
       "      <td>14</td>\n",
       "      <td>0</td>\n",
       "      <td>ge.org</td>\n",
       "      <td>1</td>\n",
       "      <td>0</td>\n",
       "      <td>0</td>\n",
       "      <td>0</td>\n",
       "      <td>0</td>\n",
       "      <td>1</td>\n",
       "    </tr>\n",
       "    <tr>\n",
       "      <th>4</th>\n",
       "      <td>1490.0</td>\n",
       "      <td>1</td>\n",
       "      <td>Elyn Norridge</td>\n",
       "      <td>elyn.norridge@jnj.com</td>\n",
       "      <td>Elyn</td>\n",
       "      <td>Norridge</td>\n",
       "      <td>47</td>\n",
       "      <td>8</td>\n",
       "      <td>6</td>\n",
       "      <td>10</td>\n",
       "      <td>40.38</td>\n",
       "      <td>1</td>\n",
       "      <td>0</td>\n",
       "      <td>0</td>\n",
       "      <td>0</td>\n",
       "      <td>5</td>\n",
       "      <td>1</td>\n",
       "      <td>5</td>\n",
       "      <td>0</td>\n",
       "      <td>8</td>\n",
       "      <td>0</td>\n",
       "      <td>0</td>\n",
       "      <td>84.8</td>\n",
       "      <td>1</td>\n",
       "      <td>1</td>\n",
       "      <td>3</td>\n",
       "      <td>12</td>\n",
       "      <td>205</td>\n",
       "      <td>jnj.com</td>\n",
       "      <td>1</td>\n",
       "      <td>0</td>\n",
       "      <td>0</td>\n",
       "      <td>0</td>\n",
       "      <td>0</td>\n",
       "      <td>1</td>\n",
       "    </tr>\n",
       "  </tbody>\n",
       "</table>\n",
       "</div>"
      ],
      "text/plain": [
       "   REVENUE  CROSS_SELL_SUCCESS               NAME                     EMAIL FIRST_NAME FAMILY_NAME  TOTAL_MEALS_ORDERED  UNIQUE_MEALS_PURCH  CONTACTS_W_CUSTOMER_SERVICE  PRODUCT_CATEGORIES_VIEWED  AVG_TIME_PER_SITE_VISIT  MOBILE_NUMBER  CANCELLATIONS_BEFORE_NOON  CANCELLATIONS_AFTER_NOON  TASTES_AND_PREFERENCES  PC_LOGINS  MOBILE_LOGINS  WEEKLY_PLAN  EARLY_DELIVERIES  LATE_DELIVERIES  PACKAGE_LOCKER  REFRIGERATED_LOCKER  AVG_PREP_VID_TIME  LARGEST_ORDER_SIZE  MASTER_CLASSES_ATTENDED  MEDIAN_MEAL_RATING  AVG_CLICKS_PER_VISIT  TOTAL_PHOTOS_VIEWED      email_domain  domain_group_company  domain_group_junk  domain_group_personal  gender_guess_female  gender_guess_male  gender_guess_unknown\n",
       "0    393.0                   1            Saathos  saathos@unitedhealth.com    Saathos     Saathos                   14                   6                           12                         10                    48.00              1                          3                         1                       1          5              2            0                 0                2               0                    0               33.4                   1                        0                   1                    17                    0  unitedhealth.com                     1                  0                      0                    0                  0                     1\n",
       "1   1365.0                   1    Alysanne Osgrey    alysanne.osgrey@ge.org   Alysanne      Osgrey                   87                   3                            8                          8                    40.35              1                          0                         0                       1          5              1           12                 0                2               0                    0               84.8                   1                        0                   3                    13                  170            ge.org                     1                  0                      0                    0                  0                     1\n",
       "2    800.0                   1     Edwyd Fossoway    edwyd.fossoway@jnj.com      Edwyd    Fossoway                   15                   7                           11                          5                    19.77              1                          3                         0                       1          6              1            1                 0                1               0                    0               63.0                   1                        0                   2                    16                    0           jnj.com                     1                  0                      0                    0                  0                     1\n",
       "3    600.0                   1  Eleyna Westerling  eleyna.westerling@ge.org     Eleyna  Westerling                   13                   6                           11                          5                    90.00              1                          2                         0                       1          6              1           14                 0                3               0                    0               43.8                   1                        0                   2                    14                    0            ge.org                     1                  0                      0                    0                  0                     1\n",
       "4   1490.0                   1      Elyn Norridge     elyn.norridge@jnj.com       Elyn    Norridge                   47                   8                            6                         10                    40.38              1                          0                         0                       0          5              1            5                 0                8               0                    0               84.8                   1                        1                   3                    12                  205           jnj.com                     1                  0                      0                    0                  0                     1"
      ]
     },
     "execution_count": 1,
     "metadata": {},
     "output_type": "execute_result"
    }
   ],
   "source": [
    "# importing libraries\n",
    "import random            as rand                     # random number gen\n",
    "import pandas            as pd                       # data science essentials\n",
    "import matplotlib.pyplot as plt                      # data visualization\n",
    "import seaborn           as sns                      # enhanced data viz\n",
    "from sklearn.model_selection import train_test_split # train-test split\n",
    "from sklearn.linear_model import LogisticRegression  # logistic regression\n",
    "import statsmodels.formula.api as smf                # logistic regression\n",
    "from sklearn.metrics import confusion_matrix         # confusion matrix\n",
    "from sklearn.metrics import roc_auc_score            # auc score\n",
    "from sklearn.neighbors import KNeighborsClassifier   # KNN for classification\n",
    "from sklearn.neighbors import KNeighborsRegressor    # KNN for regression\n",
    "from sklearn.preprocessing import StandardScaler     # standard scaler\n",
    "# libraries for classification trees\n",
    "from sklearn.tree import DecisionTreeClassifier      # classification trees\n",
    "from sklearn.tree import export_graphviz             # exports graphics\n",
    "from six import StringIO           # saves objects in memory\n",
    "from IPython.display import Image                    # displays on frontend\n",
    "import pydotplus                                     # interprets dot objects\n",
    "\n",
    "# loading data\n",
    "chef_data = pd.read_excel('./dataset/Apprentice_Chef_Dataset_LR.xlsx')\n",
    "\n",
    "\n",
    "# setting pandas print options\n",
    "pd.set_option('display.max_rows', 500)\n",
    "pd.set_option('display.max_columns', 500)\n",
    "pd.set_option('display.width', 1000)\n",
    "pd.set_option('display.max_colwidth', 100)\n",
    "\n",
    "\n",
    "# displaying the head of the dataset\n",
    "chef_data.head(n = 5)"
   ]
  },
  {
   "cell_type": "code",
   "execution_count": 2,
   "metadata": {},
   "outputs": [
    {
     "name": "stdout",
     "output_type": "stream",
     "text": [
      "\n",
      "Size of Original Dataset\n",
      "------------------------\n",
      "Observations: 1946\n",
      "Features:     35\n",
      "\n"
     ]
    }
   ],
   "source": [
    "#Shape to know the size of our data set\n",
    "chef_data.shape\n",
    "\n",
    "print(f\"\"\"\n",
    "Size of Original Dataset\n",
    "------------------------\n",
    "Observations: {chef_data.shape[0]}\n",
    "Features:     {chef_data.shape[1]}\n",
    "\"\"\")\n"
   ]
  },
  {
   "cell_type": "code",
   "execution_count": 3,
   "metadata": {},
   "outputs": [
    {
     "name": "stdout",
     "output_type": "stream",
     "text": [
      "<class 'pandas.core.frame.DataFrame'>\n",
      "RangeIndex: 1946 entries, 0 to 1945\n",
      "Data columns (total 35 columns):\n",
      " #   Column                       Non-Null Count  Dtype  \n",
      "---  ------                       --------------  -----  \n",
      " 0   REVENUE                      1946 non-null   float64\n",
      " 1   CROSS_SELL_SUCCESS           1946 non-null   int64  \n",
      " 2   NAME                         1946 non-null   object \n",
      " 3   EMAIL                        1946 non-null   object \n",
      " 4   FIRST_NAME                   1946 non-null   object \n",
      " 5   FAMILY_NAME                  1899 non-null   object \n",
      " 6   TOTAL_MEALS_ORDERED          1946 non-null   int64  \n",
      " 7   UNIQUE_MEALS_PURCH           1946 non-null   int64  \n",
      " 8   CONTACTS_W_CUSTOMER_SERVICE  1946 non-null   int64  \n",
      " 9   PRODUCT_CATEGORIES_VIEWED    1946 non-null   int64  \n",
      " 10  AVG_TIME_PER_SITE_VISIT      1946 non-null   float64\n",
      " 11  MOBILE_NUMBER                1946 non-null   int64  \n",
      " 12  CANCELLATIONS_BEFORE_NOON    1946 non-null   int64  \n",
      " 13  CANCELLATIONS_AFTER_NOON     1946 non-null   int64  \n",
      " 14  TASTES_AND_PREFERENCES       1946 non-null   int64  \n",
      " 15  PC_LOGINS                    1946 non-null   int64  \n",
      " 16  MOBILE_LOGINS                1946 non-null   int64  \n",
      " 17  WEEKLY_PLAN                  1946 non-null   int64  \n",
      " 18  EARLY_DELIVERIES             1946 non-null   int64  \n",
      " 19  LATE_DELIVERIES              1946 non-null   int64  \n",
      " 20  PACKAGE_LOCKER               1946 non-null   int64  \n",
      " 21  REFRIGERATED_LOCKER          1946 non-null   int64  \n",
      " 22  AVG_PREP_VID_TIME            1946 non-null   float64\n",
      " 23  LARGEST_ORDER_SIZE           1946 non-null   int64  \n",
      " 24  MASTER_CLASSES_ATTENDED      1946 non-null   int64  \n",
      " 25  MEDIAN_MEAL_RATING           1946 non-null   int64  \n",
      " 26  AVG_CLICKS_PER_VISIT         1946 non-null   int64  \n",
      " 27  TOTAL_PHOTOS_VIEWED          1946 non-null   int64  \n",
      " 28  email_domain                 1946 non-null   object \n",
      " 29  domain_group_company         1946 non-null   int64  \n",
      " 30  domain_group_junk            1946 non-null   int64  \n",
      " 31  domain_group_personal        1946 non-null   int64  \n",
      " 32  gender_guess_female          1946 non-null   int64  \n",
      " 33  gender_guess_male            1946 non-null   int64  \n",
      " 34  gender_guess_unknown         1946 non-null   int64  \n",
      "dtypes: float64(3), int64(27), object(5)\n",
      "memory usage: 532.2+ KB\n"
     ]
    }
   ],
   "source": [
    "#Checking the info\n",
    "chef_data.info()"
   ]
  },
  {
   "cell_type": "code",
   "execution_count": 4,
   "metadata": {},
   "outputs": [],
   "source": [
    "#Changing the miss labled feature \"Largest order\".\n",
    "chef_data = chef_data.rename(columns={'LARGEST_ORDER_SIZE': 'average_meals_ordered', })"
   ]
  },
  {
   "cell_type": "markdown",
   "metadata": {
    "deletable": false,
    "editable": false,
    "run_control": {
     "frozen": true
    }
   },
   "source": [
    "<h2> Data Exploration</h2><br>\n",
    "&emsp;1. Creating new features based on the first analysis of decision tree estimator and logistic regression <br>\n",
    "&emsp;2. Calculating the correlation between Cross sell success and other features <br>\n",
    "&emsp;3. Data division into explanatory and target data. Removing variables that are not needed, are less important to the Y variable.\n",
    "\n",
    "<br>\n"
   ]
  },
  {
   "cell_type": "code",
   "execution_count": 5,
   "metadata": {},
   "outputs": [],
   "source": [
    "#########################\n",
    "# text_split_feature\n",
    "#########################\n",
    "def text_split_feature(col, df, sep=' ', new_col_name='number_of_names'):\n",
    "    \"\"\"\n",
    "Splits values in a string Series (as part of a DataFrame) and sums the number\n",
    "of resulting items. Automatically appends summed column to original DataFrame.\n",
    "\n",
    "PARAMETERS\n",
    "----------\n",
    "col          : column to split\n",
    "df           : DataFrame where column is located\n",
    "sep          : string sequence to split by, default ' '\n",
    "new_col_name : name of new column after summing split, default\n",
    "               'number_of_names'\n",
    "\"\"\"\n",
    "    \n",
    "    df[new_col_name] = 0\n",
    "    \n",
    "    \n",
    "    for index, val in df.iterrows():\n",
    "        df.loc[index, new_col_name] = len(df.loc[index, col].split(sep = ' '))"
   ]
  },
  {
   "cell_type": "code",
   "execution_count": 6,
   "metadata": {},
   "outputs": [],
   "source": [
    "chef_data['junk_revenue'] = chef_data.domain_group_junk  * chef_data.REVENUE # Total revenue given by the junk domain customers\n",
    "chef_data['total_meals_cancel_junk'] = (chef_data.CANCELLATIONS_BEFORE_NOON + chef_data.CANCELLATIONS_AFTER_NOON) * chef_data.domain_group_junk # getting the total cancelled prders per junk customers\n",
    "chef_data['reveue_per_order'] = chef_data.REVENUE / chef_data.TOTAL_MEALS_ORDERED\n",
    "chef_data['video_time_revenue_per_sec'] = chef_data.REVENUE / chef_data.AVG_PREP_VID_TIME\n",
    "chef_data['mobile_Taste'] = chef_data.MOBILE_NUMBER * chef_data.TASTES_AND_PREFERENCES\n",
    "chef_data['total_logins_over_total_meals_ordered'] = (chef_data.MOBILE_LOGINS + chef_data.PC_LOGINS) / chef_data.TOTAL_MEALS_ORDERED\n",
    "chef_data['Freq_Unique'] = chef_data.TOTAL_MEALS_ORDERED/chef_data.UNIQUE_MEALS_PURCH.round(2)\n",
    "chef_data['contact_order'] = chef_data.CONTACTS_W_CUSTOMER_SERVICE/chef_data.TOTAL_MEALS_ORDERED.round(2)"
   ]
  },
  {
   "cell_type": "code",
   "execution_count": 7,
   "metadata": {},
   "outputs": [
    {
     "data": {
      "text/plain": [
       "1234"
      ]
     },
     "execution_count": 7,
     "metadata": {},
     "output_type": "execute_result"
    }
   ],
   "source": [
    "# Creating a new feature to get to know the qulity of customers to cross sell bettwe\n",
    "chef_data['low_cancellation_customer'] = 0\n",
    "\n",
    "\n",
    "# replacing values based on a condition\n",
    "for index, val in chef_data.iterrows():\n",
    "    if chef_data.loc[index, 'CANCELLATIONS_BEFORE_NOON'] <= 1.5:\n",
    "        chef_data.loc[index, 'low_cancellation_customer'] = 1\n",
    "\n",
    "\n",
    "# checking results\n",
    "chef_data['low_cancellation_customer'].sum()\\\n"
   ]
  },
  {
   "cell_type": "code",
   "execution_count": 8,
   "metadata": {},
   "outputs": [
    {
     "data": {
      "text/plain": [
       "1     591\n",
       "2    1201\n",
       "3      98\n",
       "4       9\n",
       "5      35\n",
       "6      12\n",
       "Name: number_of_names, dtype: int64"
      ]
     },
     "execution_count": 8,
     "metadata": {},
     "output_type": "execute_result"
    }
   ],
   "source": [
    "#Creating a new variable name with value count\n",
    "text_split_feature(col = 'NAME',\n",
    "                   df  = chef_data)\n",
    "\n",
    "\n",
    "# checking results\n",
    "chef_data['number_of_names'].value_counts().sort_index()"
   ]
  },
  {
   "cell_type": "code",
   "execution_count": 9,
   "metadata": {},
   "outputs": [
    {
     "data": {
      "text/plain": [
       "1137"
      ]
     },
     "execution_count": 9,
     "metadata": {},
     "output_type": "execute_result"
    }
   ],
   "source": [
    "#Creating a new feature to know if the customer is adult or not\n",
    "chef_data['adult'] = 0\n",
    "\n",
    "\n",
    "# replacing values based on a condition\n",
    "for index, val in chef_data.iterrows():\n",
    "    if chef_data.loc[index, 'reveue_per_order'] > 30:\n",
    "        chef_data.loc[index, 'adult'] = 1\n",
    "\n",
    "\n",
    "# checking results\n",
    "chef_data['adult'].sum()\\\n"
   ]
  },
  {
   "cell_type": "code",
   "execution_count": 10,
   "metadata": {},
   "outputs": [],
   "source": [
    "# declaring explanatory variables\n",
    "#Removing the object type features and log features\n",
    "app_df = chef_data.drop([ 'NAME',\n",
    "                        'EMAIL',\n",
    "                        'FIRST_NAME',\n",
    "                        'FAMILY_NAME',\n",
    "                        'email_domain',\n",
    "                        'CROSS_SELL_SUCCESS'\n",
    "                        ],\n",
    "                         axis = 1)\n",
    "\n",
    "# declaring response variable\n",
    "app_target = chef_data.loc[ : , 'CROSS_SELL_SUCCESS']"
   ]
  },
  {
   "cell_type": "code",
   "execution_count": 11,
   "metadata": {
    "scrolled": true
   },
   "outputs": [
    {
     "data": {
      "text/plain": [
       "REVENUE                                  0\n",
       "TOTAL_MEALS_ORDERED                      0\n",
       "UNIQUE_MEALS_PURCH                       0\n",
       "CONTACTS_W_CUSTOMER_SERVICE              0\n",
       "PRODUCT_CATEGORIES_VIEWED                0\n",
       "AVG_TIME_PER_SITE_VISIT                  0\n",
       "MOBILE_NUMBER                            0\n",
       "CANCELLATIONS_BEFORE_NOON                0\n",
       "CANCELLATIONS_AFTER_NOON                 0\n",
       "TASTES_AND_PREFERENCES                   0\n",
       "PC_LOGINS                                0\n",
       "MOBILE_LOGINS                            0\n",
       "WEEKLY_PLAN                              0\n",
       "EARLY_DELIVERIES                         0\n",
       "LATE_DELIVERIES                          0\n",
       "PACKAGE_LOCKER                           0\n",
       "REFRIGERATED_LOCKER                      0\n",
       "AVG_PREP_VID_TIME                        0\n",
       "average_meals_ordered                    0\n",
       "MASTER_CLASSES_ATTENDED                  0\n",
       "MEDIAN_MEAL_RATING                       0\n",
       "AVG_CLICKS_PER_VISIT                     0\n",
       "TOTAL_PHOTOS_VIEWED                      0\n",
       "domain_group_company                     0\n",
       "domain_group_junk                        0\n",
       "domain_group_personal                    0\n",
       "gender_guess_female                      0\n",
       "gender_guess_male                        0\n",
       "gender_guess_unknown                     0\n",
       "junk_revenue                             0\n",
       "total_meals_cancel_junk                  0\n",
       "reveue_per_order                         0\n",
       "video_time_revenue_per_sec               0\n",
       "mobile_Taste                             0\n",
       "total_logins_over_total_meals_ordered    0\n",
       "Freq_Unique                              0\n",
       "contact_order                            0\n",
       "low_cancellation_customer                0\n",
       "number_of_names                          0\n",
       "adult                                    0\n",
       "dtype: int64"
      ]
     },
     "execution_count": 11,
     "metadata": {},
     "output_type": "execute_result"
    }
   ],
   "source": [
    "#Finding the missing values in each feature\n",
    "app_df.isnull().sum(axis = 0)"
   ]
  },
  {
   "cell_type": "markdown",
   "metadata": {
    "deletable": false,
    "editable": false,
    "run_control": {
     "frozen": true
    }
   },
   "source": [
    "<h2> Data Preparation</h2><br>\n",
    "&emsp;1. Diving the data into training and testing data sets<br>\n",
    "&emsp;2. Run a logistic regression to see the significant variables and using them<br>\n",
    "&emsp;3. Creating a dictionary to store different sets of features that are significant and full data<br>\n",
    "<br>\n"
   ]
  },
  {
   "cell_type": "code",
   "execution_count": 12,
   "metadata": {},
   "outputs": [],
   "source": [
    "# train-test split with stratification\n",
    "x_train, x_test, y_train, y_test = train_test_split(\n",
    "            app_df,\n",
    "            app_target,\n",
    "            test_size    = 0.25,\n",
    "            random_state = 219,\n",
    "            stratify     = app_target)\n",
    "\n",
    "\n",
    "# merging training data for statsmodels\n",
    "app_train = pd.concat([x_train, y_train], axis = 1)"
   ]
  },
  {
   "cell_type": "code",
   "execution_count": 13,
   "metadata": {},
   "outputs": [
    {
     "name": "stdout",
     "output_type": "stream",
     "text": [
      "\n",
      "\n",
      "Response Variable Proportions (Training Set)\n",
      "--------------------------------------------\n",
      "1    0.68\n",
      "0    0.32\n",
      "Name: CROSS_SELL_SUCCESS, dtype: float64\n",
      "\n",
      "\n",
      "\n",
      "Response Variable Proportions (Testing Set)\n",
      "--------------------------------------------\n",
      "1    0.68\n",
      "0    0.32\n",
      "Name: CROSS_SELL_SUCCESS, dtype: float64\n",
      "\n"
     ]
    }
   ],
   "source": [
    "print(f\"\"\"\n",
    "\n",
    "Response Variable Proportions (Training Set)\n",
    "--------------------------------------------\n",
    "{y_train.value_counts(normalize = True).round(decimals = 2)}\n",
    "\n",
    "\n",
    "\n",
    "Response Variable Proportions (Testing Set)\n",
    "--------------------------------------------\n",
    "{y_test.value_counts(normalize = True).round(decimals = 2)}\n",
    "\"\"\")\n",
    "\n"
   ]
  },
  {
   "cell_type": "code",
   "execution_count": 14,
   "metadata": {},
   "outputs": [
    {
     "name": "stdout",
     "output_type": "stream",
     "text": [
      " REVENUE + \n",
      " TOTAL_MEALS_ORDERED + \n",
      " UNIQUE_MEALS_PURCH + \n",
      " CONTACTS_W_CUSTOMER_SERVICE + \n",
      " PRODUCT_CATEGORIES_VIEWED + \n",
      " AVG_TIME_PER_SITE_VISIT + \n",
      " MOBILE_NUMBER + \n",
      " CANCELLATIONS_BEFORE_NOON + \n",
      " CANCELLATIONS_AFTER_NOON + \n",
      " TASTES_AND_PREFERENCES + \n",
      " PC_LOGINS + \n",
      " MOBILE_LOGINS + \n",
      " WEEKLY_PLAN + \n",
      " EARLY_DELIVERIES + \n",
      " LATE_DELIVERIES + \n",
      " PACKAGE_LOCKER + \n",
      " REFRIGERATED_LOCKER + \n",
      " AVG_PREP_VID_TIME + \n",
      " average_meals_ordered + \n",
      " MASTER_CLASSES_ATTENDED + \n",
      " MEDIAN_MEAL_RATING + \n",
      " AVG_CLICKS_PER_VISIT + \n",
      " TOTAL_PHOTOS_VIEWED + \n",
      " domain_group_company + \n",
      " domain_group_junk + \n",
      " domain_group_personal + \n",
      " gender_guess_female + \n",
      " gender_guess_male + \n",
      " gender_guess_unknown + \n",
      " junk_revenue + \n",
      " total_meals_cancel_junk + \n",
      " reveue_per_order + \n",
      " video_time_revenue_per_sec + \n",
      " mobile_Taste + \n",
      " total_logins_over_total_meals_ordered + \n",
      " Freq_Unique + \n",
      " contact_order + \n",
      " low_cancellation_customer + \n",
      " number_of_names + \n",
      " adult + \n"
     ]
    }
   ],
   "source": [
    "for val in app_df:\n",
    "    print(f\" {val} + \")"
   ]
  },
  {
   "cell_type": "code",
   "execution_count": 15,
   "metadata": {},
   "outputs": [
    {
     "name": "stdout",
     "output_type": "stream",
     "text": [
      "Optimization terminated successfully.\n",
      "         Current function value: 0.530193\n",
      "         Iterations 10\n"
     ]
    },
    {
     "name": "stderr",
     "output_type": "stream",
     "text": [
      "C:\\Users\\mayan\\anaconda3\\lib\\site-packages\\statsmodels\\base\\model.py:1354: RuntimeWarning: invalid value encountered in sqrt\n",
      "  bse_ = np.sqrt(np.diag(self.cov_params()))\n"
     ]
    },
    {
     "data": {
      "text/html": [
       "<table class=\"simpletable\">\n",
       "<caption>Logit Regression Results</caption>\n",
       "<tr>\n",
       "  <th>Dep. Variable:</th>   <td>CROSS_SELL_SUCCESS</td> <th>  No. Observations:  </th>  <td>  1459</td>  \n",
       "</tr>\n",
       "<tr>\n",
       "  <th>Model:</th>                  <td>Logit</td>       <th>  Df Residuals:      </th>  <td>  1420</td>  \n",
       "</tr>\n",
       "<tr>\n",
       "  <th>Method:</th>                  <td>MLE</td>        <th>  Df Model:          </th>  <td>    38</td>  \n",
       "</tr>\n",
       "<tr>\n",
       "  <th>Date:</th>             <td>Thu, 28 Jan 2021</td>  <th>  Pseudo R-squ.:     </th>  <td>0.1557</td>  \n",
       "</tr>\n",
       "<tr>\n",
       "  <th>Time:</th>                 <td>21:21:19</td>      <th>  Log-Likelihood:    </th> <td> -773.55</td> \n",
       "</tr>\n",
       "<tr>\n",
       "  <th>converged:</th>              <td>True</td>        <th>  LL-Null:           </th> <td> -916.19</td> \n",
       "</tr>\n",
       "<tr>\n",
       "  <th>Covariance Type:</th>      <td>nonrobust</td>     <th>  LLR p-value:       </th> <td>1.201e-39</td>\n",
       "</tr>\n",
       "</table>\n",
       "<table class=\"simpletable\">\n",
       "<tr>\n",
       "                    <td></td>                       <th>coef</th>     <th>std err</th>      <th>z</th>      <th>P>|z|</th>  <th>[0.025</th>    <th>0.975]</th>  \n",
       "</tr>\n",
       "<tr>\n",
       "  <th>Intercept</th>                             <td>   -1.9538</td> <td> 5.62e+06</td> <td>-3.48e-07</td> <td> 1.000</td> <td> -1.1e+07</td> <td>  1.1e+07</td>\n",
       "</tr>\n",
       "<tr>\n",
       "  <th>REVENUE</th>                               <td>   -0.0002</td> <td>    0.000</td> <td>   -0.713</td> <td> 0.476</td> <td>   -0.001</td> <td>    0.000</td>\n",
       "</tr>\n",
       "<tr>\n",
       "  <th>TOTAL_MEALS_ORDERED</th>                   <td>   -0.0045</td> <td>    0.003</td> <td>   -1.775</td> <td> 0.076</td> <td>   -0.009</td> <td>    0.000</td>\n",
       "</tr>\n",
       "<tr>\n",
       "  <th>UNIQUE_MEALS_PURCH</th>                    <td>   -0.0019</td> <td>    0.039</td> <td>   -0.048</td> <td> 0.962</td> <td>   -0.078</td> <td>    0.074</td>\n",
       "</tr>\n",
       "<tr>\n",
       "  <th>CONTACTS_W_CUSTOMER_SERVICE</th>           <td>    0.1021</td> <td>    0.067</td> <td>    1.527</td> <td> 0.127</td> <td>   -0.029</td> <td>    0.233</td>\n",
       "</tr>\n",
       "<tr>\n",
       "  <th>PRODUCT_CATEGORIES_VIEWED</th>             <td>   -0.0121</td> <td>    0.021</td> <td>   -0.580</td> <td> 0.562</td> <td>   -0.053</td> <td>    0.029</td>\n",
       "</tr>\n",
       "<tr>\n",
       "  <th>AVG_TIME_PER_SITE_VISIT</th>               <td> 6.051e-05</td> <td>    0.001</td> <td>    0.059</td> <td> 0.953</td> <td>   -0.002</td> <td>    0.002</td>\n",
       "</tr>\n",
       "<tr>\n",
       "  <th>MOBILE_NUMBER</th>                         <td>    0.9765</td> <td>    0.334</td> <td>    2.924</td> <td> 0.003</td> <td>    0.322</td> <td>    1.631</td>\n",
       "</tr>\n",
       "<tr>\n",
       "  <th>CANCELLATIONS_BEFORE_NOON</th>             <td>    0.1118</td> <td>    0.084</td> <td>    1.339</td> <td> 0.181</td> <td>   -0.052</td> <td>    0.276</td>\n",
       "</tr>\n",
       "<tr>\n",
       "  <th>CANCELLATIONS_AFTER_NOON</th>              <td>   -0.2950</td> <td>    0.149</td> <td>   -1.986</td> <td> 0.047</td> <td>   -0.586</td> <td>   -0.004</td>\n",
       "</tr>\n",
       "<tr>\n",
       "  <th>TASTES_AND_PREFERENCES</th>                <td>    0.4583</td> <td>    0.364</td> <td>    1.258</td> <td> 0.208</td> <td>   -0.256</td> <td>    1.172</td>\n",
       "</tr>\n",
       "<tr>\n",
       "  <th>PC_LOGINS</th>                             <td>    0.2418</td> <td>    0.126</td> <td>    1.914</td> <td> 0.056</td> <td>   -0.006</td> <td>    0.489</td>\n",
       "</tr>\n",
       "<tr>\n",
       "  <th>MOBILE_LOGINS</th>                         <td>   -0.2017</td> <td>    0.135</td> <td>   -1.498</td> <td> 0.134</td> <td>   -0.466</td> <td>    0.062</td>\n",
       "</tr>\n",
       "<tr>\n",
       "  <th>WEEKLY_PLAN</th>                           <td>    0.0057</td> <td>    0.005</td> <td>    1.185</td> <td> 0.236</td> <td>   -0.004</td> <td>    0.015</td>\n",
       "</tr>\n",
       "<tr>\n",
       "  <th>EARLY_DELIVERIES</th>                      <td>    0.0616</td> <td>    0.028</td> <td>    2.184</td> <td> 0.029</td> <td>    0.006</td> <td>    0.117</td>\n",
       "</tr>\n",
       "<tr>\n",
       "  <th>LATE_DELIVERIES</th>                       <td>    0.0167</td> <td>    0.023</td> <td>    0.726</td> <td> 0.468</td> <td>   -0.028</td> <td>    0.062</td>\n",
       "</tr>\n",
       "<tr>\n",
       "  <th>PACKAGE_LOCKER</th>                        <td>    0.0752</td> <td>    0.151</td> <td>    0.497</td> <td> 0.619</td> <td>   -0.221</td> <td>    0.372</td>\n",
       "</tr>\n",
       "<tr>\n",
       "  <th>REFRIGERATED_LOCKER</th>                   <td>    0.4352</td> <td>    0.241</td> <td>    1.809</td> <td> 0.070</td> <td>   -0.036</td> <td>    0.907</td>\n",
       "</tr>\n",
       "<tr>\n",
       "  <th>AVG_PREP_VID_TIME</th>                     <td>    0.0050</td> <td>    0.005</td> <td>    1.080</td> <td> 0.280</td> <td>   -0.004</td> <td>    0.014</td>\n",
       "</tr>\n",
       "<tr>\n",
       "  <th>average_meals_ordered</th>                 <td>   -0.0529</td> <td>    0.071</td> <td>   -0.744</td> <td> 0.457</td> <td>   -0.192</td> <td>    0.086</td>\n",
       "</tr>\n",
       "<tr>\n",
       "  <th>MASTER_CLASSES_ATTENDED</th>               <td>    0.1879</td> <td>    0.118</td> <td>    1.588</td> <td> 0.112</td> <td>   -0.044</td> <td>    0.420</td>\n",
       "</tr>\n",
       "<tr>\n",
       "  <th>MEDIAN_MEAL_RATING</th>                    <td>    0.1017</td> <td>    0.175</td> <td>    0.582</td> <td> 0.561</td> <td>   -0.241</td> <td>    0.444</td>\n",
       "</tr>\n",
       "<tr>\n",
       "  <th>AVG_CLICKS_PER_VISIT</th>                  <td>   -0.0277</td> <td>    0.052</td> <td>   -0.531</td> <td> 0.595</td> <td>   -0.130</td> <td>    0.075</td>\n",
       "</tr>\n",
       "<tr>\n",
       "  <th>TOTAL_PHOTOS_VIEWED</th>                   <td>   -0.0002</td> <td>    0.000</td> <td>   -0.528</td> <td> 0.597</td> <td>   -0.001</td> <td>    0.001</td>\n",
       "</tr>\n",
       "<tr>\n",
       "  <th>domain_group_company</th>                  <td>    0.1934</td> <td> 5.25e+06</td> <td> 3.68e-08</td> <td> 1.000</td> <td>-1.03e+07</td> <td> 1.03e+07</td>\n",
       "</tr>\n",
       "<tr>\n",
       "  <th>domain_group_junk</th>                     <td>   -2.0345</td> <td> 5.25e+06</td> <td>-3.88e-07</td> <td> 1.000</td> <td>-1.03e+07</td> <td> 1.03e+07</td>\n",
       "</tr>\n",
       "<tr>\n",
       "  <th>domain_group_personal</th>                 <td>   -0.2547</td> <td> 5.25e+06</td> <td>-4.85e-08</td> <td> 1.000</td> <td>-1.03e+07</td> <td> 1.03e+07</td>\n",
       "</tr>\n",
       "<tr>\n",
       "  <th>gender_guess_female</th>                   <td>   -1.4042</td> <td>      nan</td> <td>      nan</td> <td>   nan</td> <td>      nan</td> <td>      nan</td>\n",
       "</tr>\n",
       "<tr>\n",
       "  <th>gender_guess_male</th>                     <td>   -0.3043</td> <td>      nan</td> <td>      nan</td> <td>   nan</td> <td>      nan</td> <td>      nan</td>\n",
       "</tr>\n",
       "<tr>\n",
       "  <th>gender_guess_unknown</th>                  <td>   -0.2808</td> <td>      nan</td> <td>      nan</td> <td>   nan</td> <td>      nan</td> <td>      nan</td>\n",
       "</tr>\n",
       "<tr>\n",
       "  <th>junk_revenue</th>                          <td>    0.0001</td> <td>    0.000</td> <td>    0.773</td> <td> 0.440</td> <td>   -0.000</td> <td>    0.000</td>\n",
       "</tr>\n",
       "<tr>\n",
       "  <th>total_meals_cancel_junk</th>               <td>    0.1428</td> <td>    0.096</td> <td>    1.480</td> <td> 0.139</td> <td>   -0.046</td> <td>    0.332</td>\n",
       "</tr>\n",
       "<tr>\n",
       "  <th>reveue_per_order</th>                      <td>   -0.0033</td> <td>    0.009</td> <td>   -0.353</td> <td> 0.724</td> <td>   -0.021</td> <td>    0.015</td>\n",
       "</tr>\n",
       "<tr>\n",
       "  <th>video_time_revenue_per_sec</th>            <td>    0.0122</td> <td>    0.050</td> <td>    0.245</td> <td> 0.806</td> <td>   -0.085</td> <td>    0.109</td>\n",
       "</tr>\n",
       "<tr>\n",
       "  <th>mobile_Taste</th>                          <td>   -0.1243</td> <td>    0.394</td> <td>   -0.316</td> <td> 0.752</td> <td>   -0.896</td> <td>    0.648</td>\n",
       "</tr>\n",
       "<tr>\n",
       "  <th>total_logins_over_total_meals_ordered</th> <td>    0.4681</td> <td>    2.865</td> <td>    0.163</td> <td> 0.870</td> <td>   -5.147</td> <td>    6.084</td>\n",
       "</tr>\n",
       "<tr>\n",
       "  <th>Freq_Unique</th>                           <td>    0.0025</td> <td>    0.007</td> <td>    0.382</td> <td> 0.703</td> <td>   -0.011</td> <td>    0.016</td>\n",
       "</tr>\n",
       "<tr>\n",
       "  <th>contact_order</th>                         <td>   -0.5490</td> <td>    1.756</td> <td>   -0.313</td> <td> 0.755</td> <td>   -3.992</td> <td>    2.893</td>\n",
       "</tr>\n",
       "<tr>\n",
       "  <th>low_cancellation_customer</th>             <td>   -0.4786</td> <td>    0.236</td> <td>   -2.031</td> <td> 0.042</td> <td>   -0.940</td> <td>   -0.017</td>\n",
       "</tr>\n",
       "<tr>\n",
       "  <th>number_of_names</th>                       <td>    0.5200</td> <td>    0.099</td> <td>    5.274</td> <td> 0.000</td> <td>    0.327</td> <td>    0.713</td>\n",
       "</tr>\n",
       "<tr>\n",
       "  <th>adult</th>                                 <td>   -0.3666</td> <td>    0.210</td> <td>   -1.745</td> <td> 0.081</td> <td>   -0.778</td> <td>    0.045</td>\n",
       "</tr>\n",
       "</table>"
      ],
      "text/plain": [
       "<class 'statsmodels.iolib.summary.Summary'>\n",
       "\"\"\"\n",
       "                           Logit Regression Results                           \n",
       "==============================================================================\n",
       "Dep. Variable:     CROSS_SELL_SUCCESS   No. Observations:                 1459\n",
       "Model:                          Logit   Df Residuals:                     1420\n",
       "Method:                           MLE   Df Model:                           38\n",
       "Date:                Thu, 28 Jan 2021   Pseudo R-squ.:                  0.1557\n",
       "Time:                        21:21:19   Log-Likelihood:                -773.55\n",
       "converged:                       True   LL-Null:                       -916.19\n",
       "Covariance Type:            nonrobust   LLR p-value:                 1.201e-39\n",
       "=========================================================================================================\n",
       "                                            coef    std err          z      P>|z|      [0.025      0.975]\n",
       "---------------------------------------------------------------------------------------------------------\n",
       "Intercept                                -1.9538   5.62e+06  -3.48e-07      1.000    -1.1e+07     1.1e+07\n",
       "REVENUE                                  -0.0002      0.000     -0.713      0.476      -0.001       0.000\n",
       "TOTAL_MEALS_ORDERED                      -0.0045      0.003     -1.775      0.076      -0.009       0.000\n",
       "UNIQUE_MEALS_PURCH                       -0.0019      0.039     -0.048      0.962      -0.078       0.074\n",
       "CONTACTS_W_CUSTOMER_SERVICE               0.1021      0.067      1.527      0.127      -0.029       0.233\n",
       "PRODUCT_CATEGORIES_VIEWED                -0.0121      0.021     -0.580      0.562      -0.053       0.029\n",
       "AVG_TIME_PER_SITE_VISIT                6.051e-05      0.001      0.059      0.953      -0.002       0.002\n",
       "MOBILE_NUMBER                             0.9765      0.334      2.924      0.003       0.322       1.631\n",
       "CANCELLATIONS_BEFORE_NOON                 0.1118      0.084      1.339      0.181      -0.052       0.276\n",
       "CANCELLATIONS_AFTER_NOON                 -0.2950      0.149     -1.986      0.047      -0.586      -0.004\n",
       "TASTES_AND_PREFERENCES                    0.4583      0.364      1.258      0.208      -0.256       1.172\n",
       "PC_LOGINS                                 0.2418      0.126      1.914      0.056      -0.006       0.489\n",
       "MOBILE_LOGINS                            -0.2017      0.135     -1.498      0.134      -0.466       0.062\n",
       "WEEKLY_PLAN                               0.0057      0.005      1.185      0.236      -0.004       0.015\n",
       "EARLY_DELIVERIES                          0.0616      0.028      2.184      0.029       0.006       0.117\n",
       "LATE_DELIVERIES                           0.0167      0.023      0.726      0.468      -0.028       0.062\n",
       "PACKAGE_LOCKER                            0.0752      0.151      0.497      0.619      -0.221       0.372\n",
       "REFRIGERATED_LOCKER                       0.4352      0.241      1.809      0.070      -0.036       0.907\n",
       "AVG_PREP_VID_TIME                         0.0050      0.005      1.080      0.280      -0.004       0.014\n",
       "average_meals_ordered                    -0.0529      0.071     -0.744      0.457      -0.192       0.086\n",
       "MASTER_CLASSES_ATTENDED                   0.1879      0.118      1.588      0.112      -0.044       0.420\n",
       "MEDIAN_MEAL_RATING                        0.1017      0.175      0.582      0.561      -0.241       0.444\n",
       "AVG_CLICKS_PER_VISIT                     -0.0277      0.052     -0.531      0.595      -0.130       0.075\n",
       "TOTAL_PHOTOS_VIEWED                      -0.0002      0.000     -0.528      0.597      -0.001       0.001\n",
       "domain_group_company                      0.1934   5.25e+06   3.68e-08      1.000   -1.03e+07    1.03e+07\n",
       "domain_group_junk                        -2.0345   5.25e+06  -3.88e-07      1.000   -1.03e+07    1.03e+07\n",
       "domain_group_personal                    -0.2547   5.25e+06  -4.85e-08      1.000   -1.03e+07    1.03e+07\n",
       "gender_guess_female                      -1.4042        nan        nan        nan         nan         nan\n",
       "gender_guess_male                        -0.3043        nan        nan        nan         nan         nan\n",
       "gender_guess_unknown                     -0.2808        nan        nan        nan         nan         nan\n",
       "junk_revenue                              0.0001      0.000      0.773      0.440      -0.000       0.000\n",
       "total_meals_cancel_junk                   0.1428      0.096      1.480      0.139      -0.046       0.332\n",
       "reveue_per_order                         -0.0033      0.009     -0.353      0.724      -0.021       0.015\n",
       "video_time_revenue_per_sec                0.0122      0.050      0.245      0.806      -0.085       0.109\n",
       "mobile_Taste                             -0.1243      0.394     -0.316      0.752      -0.896       0.648\n",
       "total_logins_over_total_meals_ordered     0.4681      2.865      0.163      0.870      -5.147       6.084\n",
       "Freq_Unique                               0.0025      0.007      0.382      0.703      -0.011       0.016\n",
       "contact_order                            -0.5490      1.756     -0.313      0.755      -3.992       2.893\n",
       "low_cancellation_customer                -0.4786      0.236     -2.031      0.042      -0.940      -0.017\n",
       "number_of_names                           0.5200      0.099      5.274      0.000       0.327       0.713\n",
       "adult                                    -0.3666      0.210     -1.745      0.081      -0.778       0.045\n",
       "=========================================================================================================\n",
       "\"\"\""
      ]
     },
     "execution_count": 15,
     "metadata": {},
     "output_type": "execute_result"
    }
   ],
   "source": [
    "# instantiating a logistic regression model object\n",
    "logit_full = smf.logit(formula = \"\"\" CROSS_SELL_SUCCESS ~     \n",
    "                                     REVENUE + \n",
    "                                     TOTAL_MEALS_ORDERED + \n",
    "                                     UNIQUE_MEALS_PURCH + \n",
    "                                     CONTACTS_W_CUSTOMER_SERVICE + \n",
    "                                     PRODUCT_CATEGORIES_VIEWED + \n",
    "                                     AVG_TIME_PER_SITE_VISIT + \n",
    "                                     MOBILE_NUMBER + \n",
    "                                     CANCELLATIONS_BEFORE_NOON + \n",
    "                                     CANCELLATIONS_AFTER_NOON + \n",
    "                                     TASTES_AND_PREFERENCES + \n",
    "                                     PC_LOGINS + \n",
    "                                     MOBILE_LOGINS + \n",
    "                                     WEEKLY_PLAN + \n",
    "                                     EARLY_DELIVERIES + \n",
    "                                     LATE_DELIVERIES + \n",
    "                                     PACKAGE_LOCKER + \n",
    "                                     REFRIGERATED_LOCKER + \n",
    "                                     AVG_PREP_VID_TIME + \n",
    "                                     average_meals_ordered + \n",
    "                                     MASTER_CLASSES_ATTENDED + \n",
    "                                     MEDIAN_MEAL_RATING + \n",
    "                                     AVG_CLICKS_PER_VISIT + \n",
    "                                     TOTAL_PHOTOS_VIEWED + \n",
    "                                     domain_group_company + \n",
    "                                     domain_group_junk + \n",
    "                                     domain_group_personal + \n",
    "                                     gender_guess_female + \n",
    "                                     gender_guess_male + \n",
    "                                     gender_guess_unknown + \n",
    "                                     junk_revenue + \n",
    "                                     total_meals_cancel_junk + \n",
    "                                     reveue_per_order + \n",
    "                                     video_time_revenue_per_sec + \n",
    "                                     mobile_Taste + \n",
    "                                     total_logins_over_total_meals_ordered + \n",
    "                                     Freq_Unique + \n",
    "                                     contact_order + \n",
    "                                     low_cancellation_customer + \n",
    "                                     number_of_names + \n",
    "                                     adult   \"\"\",\n",
    "                                     data    = app_train)\n",
    "\n",
    "\n",
    "# fitting the model object\n",
    "logit_full = logit_full.fit()\n",
    "\n",
    "\n",
    "# checking the results SUMMARY\n",
    "logit_full.summary()"
   ]
  },
  {
   "cell_type": "markdown",
   "metadata": {
    "deletable": false,
    "editable": false,
    "run_control": {
     "frozen": true
    }
   },
   "source": [
    "<h2> Data Modeling</h2><br>\n",
    "&emsp;1. Logistic Regression<br>\n",
    "&emsp;2. Desicion Tree<br>\n",
    "&emsp;3. Random Forest<br>\n",
    "<br>\n",
    "<br"
   ]
  },
  {
   "cell_type": "code",
   "execution_count": 16,
   "metadata": {},
   "outputs": [],
   "source": [
    "# explanatory sets from last session\n",
    "\n",
    "# creating a dictionary to store candidate models\n",
    "\n",
    "candidate_dict = {\n",
    "    \n",
    " # significant variables only (set 1)\n",
    " 'logit_full'    : ['REVENUE','TOTAL_MEALS_ORDERED', 'UNIQUE_MEALS_PURCH', \n",
    "                    'CONTACTS_W_CUSTOMER_SERVICE', 'PRODUCT_CATEGORIES_VIEWED',\n",
    "                    'AVG_TIME_PER_SITE_VISIT', 'MOBILE_NUMBER', 'CANCELLATIONS_BEFORE_NOON',\n",
    "                    'CANCELLATIONS_AFTER_NOON', 'TASTES_AND_PREFERENCES' ,'PC_LOGINS' ,\n",
    "                    'MOBILE_LOGINS','WEEKLY_PLAN' , 'EARLY_DELIVERIES' ,'LATE_DELIVERIES', 'PACKAGE_LOCKER' ,\n",
    "                    'REFRIGERATED_LOCKER','AVG_PREP_VID_TIME' ,'average_meals_ordered',\n",
    "                    'MASTER_CLASSES_ATTENDED', 'MEDIAN_MEAL_RATING','AVG_CLICKS_PER_VISIT',\n",
    "                    'TOTAL_PHOTOS_VIEWED','domain_group_company','domain_group_junk'  ,\n",
    "                    'gender_guess_female', 'gender_guess_male', 'low_cancellation_customer',\n",
    "                    'number_of_names' ,'adult' ],\n",
    "\n",
    "    \n",
    "}\n",
    "    \n",
    "  "
   ]
  },
  {
   "cell_type": "code",
   "execution_count": 17,
   "metadata": {},
   "outputs": [],
   "source": [
    "# new packages\n",
    "from sklearn.model_selection import RandomizedSearchCV     # hyperparameter tuning\n",
    "from sklearn.metrics import make_scorer "
   ]
  },
  {
   "cell_type": "markdown",
   "metadata": {
    "deletable": false,
    "editable": false,
    "run_control": {
     "frozen": true
    }
   },
   "source": [
    "<h3> Logistic Regression </h3><br>\n",
    "Using the full data on Logistic Regression model and improve the model using hyper parameter to tune the parameters and increase the AUC Score. Also helps in understanding if the data is over fitting or under fitting in the model<br> \n",
    "<br>\n",
    "<br>"
   ]
  },
  {
   "cell_type": "code",
   "execution_count": 18,
   "metadata": {},
   "outputs": [
    {
     "name": "stderr",
     "output_type": "stream",
     "text": [
      "C:\\Users\\mayan\\anaconda3\\lib\\site-packages\\sklearn\\linear_model\\_logistic.py:764: ConvergenceWarning: lbfgs failed to converge (status=1):\n",
      "STOP: TOTAL NO. of ITERATIONS REACHED LIMIT.\n",
      "\n",
      "Increase the number of iterations (max_iter) or scale the data as shown in:\n",
      "    https://scikit-learn.org/stable/modules/preprocessing.html\n",
      "Please also refer to the documentation for alternative solver options:\n",
      "    https://scikit-learn.org/stable/modules/linear_model.html#logistic-regression\n",
      "  extra_warning_msg=_LOGISTIC_SOLVER_CONVERGENCE_MSG)\n"
     ]
    },
    {
     "name": "stdout",
     "output_type": "stream",
     "text": [
      "LogReg Training ACCURACY: 0.7169\n",
      "LogReg Testing  ACCURACY: 0.7002\n",
      "LogReg Train-Test Gap   : 0.0167\n"
     ]
    }
   ],
   "source": [
    "# train/test split\n",
    "app_df   =  chef_data.loc[ : , candidate_dict['logit_full']]\n",
    "app_target =  chef_data.loc[ : , 'CROSS_SELL_SUCCESS']\n",
    "\n",
    "\n",
    "# this is the exact code we were using before\n",
    "X_train, X_test, y_train, y_test = train_test_split(\n",
    "            app_df,\n",
    "            app_target,\n",
    "            random_state = 219,\n",
    "            test_size    = 0.25,\n",
    "            stratify     = app_target)\n",
    "\n",
    "\n",
    "# INSTANTIATING a logistic regression model\n",
    "logreg = LogisticRegression(solver = 'lbfgs',\n",
    "                            C = 1,\n",
    "                            random_state = 219)\n",
    "\n",
    "\n",
    "# FITTING the training data\n",
    "logreg_fit = logreg.fit(X_train, y_train)\n",
    "\n",
    "\n",
    "# PREDICTING based on the testing set\n",
    "logreg_pred = logreg_fit.predict(X_test)\n",
    "\n",
    "\n",
    "# SCORING the results\n",
    "print('LogReg Training ACCURACY:', logreg_fit.score(X_train, y_train).round(4))\n",
    "print('LogReg Testing  ACCURACY:', logreg_fit.score(X_test, y_test).round(4))\n",
    "\n",
    "# saving scoring data for future use\n",
    "logreg_train_score = logreg_fit.score(X_train, y_train).round(4) # accuracy\n",
    "logreg_test_score  = logreg_fit.score(X_test, y_test).round(4)   # accuracy\n",
    "\n",
    "\n",
    "# displaying and saving the gap between training and testing\n",
    "print('LogReg Train-Test Gap   :', abs(logreg_train_score - logreg_test_score).round(4))\n",
    "logreg_test_gap = abs(logreg_train_score - logreg_test_score).round(4)"
   ]
  },
  {
   "cell_type": "code",
   "execution_count": 19,
   "metadata": {},
   "outputs": [
    {
     "name": "stdout",
     "output_type": "stream",
     "text": [
      "\n",
      "True Negatives : 31\n",
      "False Positives: 125\n",
      "False Negatives: 21\n",
      "True Positives : 310\n",
      "\n"
     ]
    }
   ],
   "source": [
    "# creating a confusion matrix\n",
    "confusion_matrix(y_true = y_test,\n",
    "                       y_pred = logreg_pred)\n",
    "\n",
    "\n",
    "# unpacking the confusion matrix\n",
    "logreg_tn, \\\n",
    "logreg_fp, \\\n",
    "logreg_fn, \\\n",
    "logreg_tp = confusion_matrix(y_true = y_test, y_pred = logreg_pred).ravel()\n",
    "\n",
    "\n",
    "# printing each result one-by-one\n",
    "print(f\"\"\"\n",
    "True Negatives : {logreg_tn}\n",
    "False Positives: {logreg_fp}\n",
    "False Negatives: {logreg_fn}\n",
    "True Positives : {logreg_tp}\n",
    "\"\"\")"
   ]
  },
  {
   "cell_type": "code",
   "execution_count": 20,
   "metadata": {},
   "outputs": [
    {
     "name": "stdout",
     "output_type": "stream",
     "text": [
      "0.5676\n"
     ]
    }
   ],
   "source": [
    "# area under the roc curve (auc)\n",
    "print(roc_auc_score(y_true  = y_test,\n",
    "                    y_score = logreg_pred).round(decimals = 4))\n",
    "\n",
    "\n",
    "# saving AUC score for future use\n",
    "logreg_auc_score = roc_auc_score(y_true  = y_test,\n",
    "                                 y_score = logreg_pred).round(decimals = 4)"
   ]
  },
  {
   "cell_type": "code",
   "execution_count": 21,
   "metadata": {
    "scrolled": false
   },
   "outputs": [],
   "source": [
    "########################################\n",
    "# RandomizedSearchCV\n",
    "########################################\n",
    "\n",
    "\n",
    "#declaring a hyperparameter space\n",
    "#C_space          = pd.np.arange(0.1, 5.0, 0.1)\n",
    "#warm_start_space = [True, False]\n",
    "#solver_space     = ['newton-cg', 'sag', 'lbfgs']\n",
    "\n",
    "\n",
    "# creating a hyperparameter grid\n",
    "#param_grid = {'C'          : C_space,\n",
    " #            'warm_start' : warm_start_space,\n",
    "  #           'solver'     : solver_space}\n",
    "\n",
    "\n",
    "# INSTANTIATING the model object without hyperparameters\n",
    "#lr_tuned = LogisticRegression(random_state = 219,\n",
    " #                            max_iter     = 1000)\n",
    "\n",
    "\n",
    "# GridSearchCV object\n",
    "#lr_tuned_cv = RandomizedSearchCV(estimator           = lr_tuned,   # the model object\n",
    " #                                param_distributions = param_grid, # parameters to tune\n",
    "  #                               cv                  = 3,          # how many folds in cross-validation\n",
    "   #                              n_iter              = 300,        # number of combinations of hyperparameters to try\n",
    "    #                             random_state        = 219,        # starting point for random sequence\n",
    "     #                            scoring = make_scorer(\n",
    "      #                                     roc_auc_score,\n",
    "       #                                    needs_threshold = False)) # scoring criteria (AUC)\n",
    "\n",
    "\n",
    "# FITTING to the FULL DATASET (due to cross-validation)\n",
    "#lr_tuned_cv.fit(app_df, app_target)\n",
    "\n",
    "#printing the optimal parameters and best score\n",
    "#print(\"Tuned Parameters  :\", lr_tuned_cv.best_params_)\n",
    "#print(\"Tuned CV AUC      :\", lr_tuned_cv.best_score_.round(4))"
   ]
  },
  {
   "cell_type": "code",
   "execution_count": 22,
   "metadata": {},
   "outputs": [],
   "source": [
    "\n",
    "# INSTANTIATING a logistic regression model with tuned values\n",
    "#lr_tuned_cv.best_estimator_"
   ]
  },
  {
   "cell_type": "code",
   "execution_count": 23,
   "metadata": {},
   "outputs": [
    {
     "name": "stdout",
     "output_type": "stream",
     "text": [
      "LR Tuned Training ACCURACY: 0.7505\n",
      "LR Tuned Testing  ACCURACY: 0.7515\n",
      "LR Tuned AUC Score        : 0.6596\n"
     ]
    }
   ],
   "source": [
    "lr_tuned = LogisticRegression(C=0.5, max_iter=1000, random_state=219, solver='newton-cg',\n",
    "                   warm_start=True)\n",
    "\n",
    "\n",
    "lr_tuned_fit = lr_tuned.fit(app_df, app_target)\n",
    "\n",
    "# PREDICTING based on the testing set\n",
    "lr_tuned_pred = lr_tuned.predict(X_test)\n",
    "\n",
    "\n",
    "# SCORING the results\n",
    "print('LR Tuned Training ACCURACY:', lr_tuned.score(X_train, y_train).round(4))\n",
    "print('LR Tuned Testing  ACCURACY:', lr_tuned.score(X_test, y_test).round(4))\n",
    "print('LR Tuned AUC Score        :', roc_auc_score(y_true  = y_test,\n",
    "                                          y_score = lr_tuned_pred).round(4))\n",
    "\n",
    "\n",
    "# saving scoring data for future use\n",
    "lr_tuned_train_score = lr_tuned.score(X_train, y_train).round(4) # accuracy\n",
    "lr_tuned_test_score  = lr_tuned.score(X_test, y_test).round(4)   # accuracy\n",
    "\n",
    "\n",
    "# saving the AUC score\n",
    "lr_tuned_auc         = roc_auc_score(y_true  = y_test,\n",
    "                                     y_score = lr_tuned_pred).round(4) # auc\n",
    "\n"
   ]
  },
  {
   "cell_type": "code",
   "execution_count": 24,
   "metadata": {},
   "outputs": [
    {
     "name": "stdout",
     "output_type": "stream",
     "text": [
      "\n",
      "True Negatives : 63\n",
      "False Positives: 93\n",
      "False Negatives: 28\n",
      "True Positives : 303\n",
      "\n"
     ]
    }
   ],
   "source": [
    "# unpacking the confusion matrix\n",
    "lr_tuned_tn, \\\n",
    "lr_tuned_fp, \\\n",
    "lr_tuned_fn, \\\n",
    "lr_tuned_tp = confusion_matrix(y_true = y_test, y_pred = lr_tuned_pred).ravel()\n",
    "\n",
    "\n",
    "# printing each result one-by-one\n",
    "print(f\"\"\"\n",
    "True Negatives : {lr_tuned_tn}\n",
    "False Positives: {lr_tuned_fp}\n",
    "False Negatives: {lr_tuned_fn}\n",
    "True Positives : {lr_tuned_tp}\n",
    "\"\"\")"
   ]
  },
  {
   "cell_type": "markdown",
   "metadata": {
    "deletable": false,
    "editable": false,
    "run_control": {
     "frozen": true
    }
   },
   "source": [
    "<h3> CART Model </h3><br>\n",
    "Using the full data on desicion tree, analysing the important features and then improving the model using hyperparameter to tune the parameter.\n",
    "To eventually increse the AUC Score<br> \n",
    "Insights: The junk mail customers that are not focused on but on the other hand result in the highest True positive values for\n",
    "for cross sell.\n",
    "<br"
   ]
  },
  {
   "cell_type": "code",
   "execution_count": 25,
   "metadata": {},
   "outputs": [],
   "source": [
    "########################################\n",
    "#CART Model\n",
    "\n",
    "########################################\n",
    "# display_tree\n",
    "########################################\n",
    "def display_tree(tree, feature_df, height = 500, width = 800):\n",
    "    \"\"\"\n",
    "    PARAMETERS\n",
    "    ----------\n",
    "    tree       : fitted tree model object\n",
    "        fitted CART model to visualized\n",
    "    feature_df : DataFrame\n",
    "        DataFrame of explanatory features (used to generate labels)\n",
    "    height     : int, default 500\n",
    "        height in pixels to which to constrain image in html\n",
    "    width      : int, default 800\n",
    "        width in pixels to which to constrain image in html\n",
    "    \"\"\"\n",
    "\n",
    "    # visualizing the tree\n",
    "    dot_data = StringIO()\n",
    "\n",
    "    \n",
    "    # exporting tree to graphviz\n",
    "    export_graphviz(decision_tree      = tree,\n",
    "                    out_file           = dot_data,\n",
    "                    filled             = True,\n",
    "                    rounded            = True,\n",
    "                    special_characters = True,\n",
    "                    feature_names      = feature_df.columns)\n",
    "\n",
    "\n",
    "    # declaring a graph object\n",
    "    graph = pydotplus.graph_from_dot_data(dot_data.getvalue())\n",
    "\n",
    "\n",
    "    # creating image\n",
    "    img = Image(graph.create_png(),\n",
    "                height = height,\n",
    "                width  = width)\n",
    "    \n",
    "    return img\n",
    "\n",
    "########################################\n",
    "# plot_feature_importances\n",
    "########################################\n",
    "def plot_feature_importances(model, train, export = False):\n",
    "    \"\"\"\n",
    "    Plots the importance of features from a CART model.\n",
    "    \n",
    "    PARAMETERS\n",
    "    ----------\n",
    "    model  : CART model\n",
    "    train  : explanatory variable training data\n",
    "    export : whether or not to export as a .png image, default False\n",
    "    \"\"\"\n",
    "    \n",
    "    # declaring the number\n",
    "    n_features = X_train.shape[1]\n",
    "    \n",
    "    # setting plot window\n",
    "    fig, ax = plt.subplots(figsize=(12,9))\n",
    "    \n",
    "    plt.barh(range(n_features), model.feature_importances_, align='center')\n",
    "    plt.yticks(pd.np.arange(n_features), train.columns)\n",
    "    plt.xlabel(\"Feature importance\")\n",
    "    plt.ylabel(\"Feature\")\n",
    "    \n",
    "    if export == True:\n",
    "        plt.savefig('Tree_Leaf_50_Feature_Importance.png')"
   ]
  },
  {
   "cell_type": "code",
   "execution_count": 26,
   "metadata": {},
   "outputs": [
    {
     "name": "stdout",
     "output_type": "stream",
     "text": [
      "Full Tree Training ACCURACY: 1.0\n",
      "Full Tree Testing ACCURACY : 0.6674\n",
      "Full Tree AUC Score: 0.6197\n"
     ]
    }
   ],
   "source": [
    "# INSTANTIATING a classification tree using the fll data\n",
    "full_tree = DecisionTreeClassifier()\n",
    "\n",
    "\n",
    "# FITTING the training data\n",
    "full_tree_fit = full_tree.fit(X_train, y_train)\n",
    "\n",
    "\n",
    "# PREDICTING on new data\n",
    "full_tree_pred = full_tree_fit.predict(X_test)\n",
    "\n",
    "\n",
    "# SCORING the model\n",
    "print('Full Tree Training ACCURACY:', full_tree_fit.score(X_train,\n",
    "                                                     y_train).round(4))\n",
    "\n",
    "print('Full Tree Testing ACCURACY :', full_tree_fit.score(X_test,\n",
    "                                                     y_test).round(4))\n",
    "\n",
    "print('Full Tree AUC Score:', roc_auc_score(y_true  = y_test,\n",
    "                                            y_score = full_tree_pred).round(4))\n",
    "\n",
    "\n",
    "# saving scoring data for future use\n",
    "full_tree_train_score = full_tree_fit.score(X_train, y_train).round(4) # accuracy\n",
    "full_tree_test_score  = full_tree_fit.score(X_test, y_test).round(4)   # accuracy\n",
    "\n",
    "\n",
    "# saving AUC\n",
    "full_tree_auc_score   = roc_auc_score(y_true  = y_test,\n",
    "                                      y_score = full_tree_pred).round(4) # auc"
   ]
  },
  {
   "cell_type": "code",
   "execution_count": 27,
   "metadata": {},
   "outputs": [
    {
     "name": "stdout",
     "output_type": "stream",
     "text": [
      "\n",
      "True Negatives : 76\n",
      "False Positives: 80\n",
      "False Negatives: 82\n",
      "True Positives : 249\n",
      "\n"
     ]
    }
   ],
   "source": [
    "full_tree_tn, \\\n",
    "full_tree_fp, \\\n",
    "full_tree_fn, \\\n",
    "full_tree_tp = confusion_matrix(y_true = y_test, y_pred = full_tree_pred).ravel()\n",
    "\n",
    "\n",
    "# printing each result one-by-one\n",
    "print(f\"\"\"\n",
    "True Negatives : {full_tree_tn}\n",
    "False Positives: {full_tree_fp}\n",
    "False Negatives: {full_tree_fn}\n",
    "True Positives : {full_tree_tp}\n",
    "\"\"\")"
   ]
  },
  {
   "cell_type": "code",
   "execution_count": 28,
   "metadata": {
    "scrolled": true
   },
   "outputs": [
    {
     "name": "stderr",
     "output_type": "stream",
     "text": [
      "C:\\Users\\mayan\\anaconda3\\lib\\site-packages\\ipykernel_launcher.py:66: FutureWarning: The pandas.np module is deprecated and will be removed from pandas in a future version. Import numpy directly instead\n"
     ]
    },
    {
     "data": {
      "image/png": "[encoded data removed]",
      "text/plain": [
       "<Figure size 864x648 with 1 Axes>"
      ]
     },
     "metadata": {
      "needs_background": "light"
     },
     "output_type": "display_data"
    }
   ],
   "source": [
    "# plotting feature importance\n",
    "plot_feature_importances(full_tree_fit,\n",
    "                         train = X_train,\n",
    "                         export = False)"
   ]
  },
  {
   "cell_type": "code",
   "execution_count": 29,
   "metadata": {},
   "outputs": [],
   "source": [
    "########################################\n",
    "# RandomizedSearchCV\n",
    "########################################\n",
    "\n",
    "# declaring a hyperparameter space\n",
    "#criterion_space = ['gini', 'entropy']\n",
    "#splitter_space  = ['best', 'random']\n",
    "#depth_space     = pd.np.arange(1, 25, 1)\n",
    "#leaf_space      = pd.np.arange(1, 100, 1)\n",
    "\n",
    "\n",
    "# creating a hyperparameter grid\n",
    "#param_grid = {'criterion'        : criterion_space,\n",
    " #             'splitter'         : splitter_space,\n",
    "  #            'max_depth'        : depth_space,\n",
    "   #           'min_samples_leaf' : leaf_space}\n",
    "\n",
    "\n",
    "# INSTANTIATING the model object without hyperparameters\n",
    "#tuned_tree = DecisionTreeClassifier(random_state = 219)\n",
    "\n",
    "\n",
    "# RandomizedSearchCV object\n",
    "#tuned_tree_cv = RandomizedSearchCV(estimator             = tuned_tree,\n",
    " #                                  param_distributions   = param_grid,\n",
    "  #                                 cv                    = 3,\n",
    "   #                                n_iter                = 1000,\n",
    "    #                               random_state          = 219,\n",
    "     #                              scoring = make_scorer(roc_auc_score,\n",
    "      #                                       needs_threshold = False))\n",
    "\n",
    "\n",
    "# FITTING to the FULL DATASET (due to cross-validation)\n",
    "#tuned_tree_cv.fit(app_df, app_target)\n",
    "\n",
    "\n",
    "# printing the optimal parameters and best score\n",
    "#print(\"Tuned Parameters  :\", tuned_tree_cv.best_params_)\n",
    "#print(\"Tuned Training AUC:\", tuned_tree_cv.best_score_.round(4))"
   ]
  },
  {
   "cell_type": "code",
   "execution_count": 30,
   "metadata": {},
   "outputs": [],
   "source": [
    "#tuned_tree_cv.best_estimator_"
   ]
  },
  {
   "cell_type": "code",
   "execution_count": 31,
   "metadata": {},
   "outputs": [
    {
     "name": "stdout",
     "output_type": "stream",
     "text": [
      "Training ACCURACY: 0.7402\n",
      "Testing  ACCURACY: 0.7762\n",
      "AUC Score        : 0.732\n"
     ]
    }
   ],
   "source": [
    "# building a model based on hyperparameter tuning results\n",
    "\n",
    "# INSTANTIATING a logistic regression model with tuned values\n",
    "tree_tuned = DecisionTreeClassifier(max_depth=3, min_samples_leaf=16, random_state=219)\n",
    "\n",
    "# FIT step is not needed\n",
    "tree_tuned_fit = tree_tuned.fit(app_df, app_target)\n",
    "\n",
    "# PREDICTING based on the testing set\n",
    "tree_tuned_pred = tree_tuned.predict(X_test)\n",
    "\n",
    "\n",
    "# SCORING the results\n",
    "print('Training ACCURACY:', tree_tuned.score(X_train, y_train).round(4))\n",
    "print('Testing  ACCURACY:', tree_tuned.score(X_test, y_test).round(4))\n",
    "print('AUC Score        :', roc_auc_score(y_true  = y_test,\n",
    "                                          y_score = tree_tuned_pred).round(4))\n",
    "\n",
    "\n",
    "# saving scoring data for future use\n",
    "tree_tuned_train_score = tree_tuned.score(X_train, y_train).round(4) # accuracy\n",
    "tree_tuned_test_score  = tree_tuned.score(X_test, y_test).round(4)   # accuracy\n",
    "\n",
    "\n",
    "# saving the AUC score\n",
    "tree_tuned_auc         = roc_auc_score(y_true  = y_test,\n",
    "                                     y_score = tree_tuned_pred).round(4) # auc"
   ]
  },
  {
   "cell_type": "code",
   "execution_count": 32,
   "metadata": {},
   "outputs": [
    {
     "name": "stdout",
     "output_type": "stream",
     "text": [
      "\n",
      "True Negatives : 95\n",
      "False Positives: 61\n",
      "False Negatives: 48\n",
      "True Positives : 283\n",
      "\n"
     ]
    }
   ],
   "source": [
    "# unpacking the confusion matrix\n",
    "tuned_tree_tn, \\\n",
    "tuned_tree_fp, \\\n",
    "tuned_tree_fn, \\\n",
    "tuned_tree_tp = confusion_matrix(y_true = y_test, y_pred = tree_tuned_pred).ravel()\n",
    "\n",
    "\n",
    "# printing each result one-by-one\n",
    "print(f\"\"\"\n",
    "True Negatives : {tuned_tree_tn}\n",
    "False Positives: {tuned_tree_fp}\n",
    "False Negatives: {tuned_tree_fn}\n",
    "True Positives : {tuned_tree_tp}\n",
    "\"\"\")"
   ]
  },
  {
   "cell_type": "markdown",
   "metadata": {
    "deletable": false,
    "editable": false,
    "run_control": {
     "frozen": true
    }
   },
   "source": [
    "<h3> Random Forest </h3><br>\n",
    "Using the full data on Random Forest to know the best decision tree using hyper parameter tunning. Then analyzing the important features and then improving the model using hyperparameter to tune the parameter.\n",
    "To eventually increase the AUC value<br>\n",
    "<br>\n",
    "There are variable like numer of names, Junk email domain, Average time spent on watching prepation videos\n",
    "<br"
   ]
  },
  {
   "cell_type": "code",
   "execution_count": 33,
   "metadata": {},
   "outputs": [],
   "source": [
    "# new packages\n",
    "from sklearn.ensemble import RandomForestClassifier     # random forest\n",
    "from sklearn.ensemble import GradientBoostingClassifier"
   ]
  },
  {
   "cell_type": "code",
   "execution_count": 34,
   "metadata": {},
   "outputs": [],
   "source": [
    "######Random Forest######\n",
    "\n",
    "# INSTANTIATING a random forest model with default values\n",
    "rf_default = RandomForestClassifier(n_estimators     = 100,\n",
    "                                    criterion        = 'gini',\n",
    "                                    max_depth        = None,\n",
    "                                    min_samples_leaf = 1,\n",
    "                                    bootstrap        = True,\n",
    "                                    warm_start       = False,\n",
    "                                    random_state     = 219)"
   ]
  },
  {
   "cell_type": "code",
   "execution_count": 35,
   "metadata": {},
   "outputs": [
    {
     "name": "stdout",
     "output_type": "stream",
     "text": [
      "Training ACCURACY: 1.0\n",
      "Testing  ACCURACY: 0.7413\n",
      "AUC Score        : 0.6351\n"
     ]
    }
   ],
   "source": [
    "# FITTING the training data\n",
    "rf_default_fit = rf_default.fit(X_train, y_train)\n",
    "\n",
    "\n",
    "# PREDICTING based on the testing set\n",
    "rf_default_fit_pred = rf_default_fit.predict(X_test)\n",
    "\n",
    "\n",
    "# SCORING the results\n",
    "print('Training ACCURACY:', rf_default_fit.score(X_train, y_train).round(4))\n",
    "print('Testing  ACCURACY:', rf_default_fit.score(X_test, y_test).round(4))\n",
    "\n",
    "\n",
    "# saving AUC score\n",
    "print('AUC Score        :', roc_auc_score(y_true  = y_test,\n",
    "                                          y_score = rf_default_fit_pred).round(4))\n",
    "\n",
    "#Saving the data\n",
    "rf_default_train_score = rf_default_fit.score(X_train, y_train).round(4)\n",
    "rf_default_test_score = rf_default_fit.score(X_test, y_test).round(4)\n",
    "rf_default_auc_score = roc_auc_score(y_true  = y_test,\n",
    "                                          y_score = rf_default_fit_pred).round(4)"
   ]
  },
  {
   "cell_type": "code",
   "execution_count": 36,
   "metadata": {},
   "outputs": [
    {
     "name": "stderr",
     "output_type": "stream",
     "text": [
      "C:\\Users\\mayan\\anaconda3\\lib\\site-packages\\ipykernel_launcher.py:66: FutureWarning: The pandas.np module is deprecated and will be removed from pandas in a future version. Import numpy directly instead\n"
     ]
    },
    {
     "data": {
      "image/png": "[encoded data removed]",
      "text/plain": [
       "<Figure size 864x648 with 1 Axes>"
      ]
     },
     "metadata": {
      "needs_background": "light"
     },
     "output_type": "display_data"
    }
   ],
   "source": [
    "plot_feature_importances(rf_default_fit,\n",
    "                         train = X_train,\n",
    "                         export = False)"
   ]
  },
  {
   "cell_type": "code",
   "execution_count": 37,
   "metadata": {
    "scrolled": true
   },
   "outputs": [
    {
     "name": "stdout",
     "output_type": "stream",
     "text": [
      "\n",
      "True Negatives : 53\n",
      "False Positives: 103\n",
      "False Negatives: 23\n",
      "True Positives : 308\n",
      "\n"
     ]
    }
   ],
   "source": [
    "# unpacking the confusion matrix\n",
    "rf_tn, \\\n",
    "rf_fp, \\\n",
    "rf_fn, \\\n",
    "rf_tp = confusion_matrix(y_true = y_test, y_pred = rf_default_fit_pred).ravel()\n",
    "\n",
    "\n",
    "# printing each result one-by-one\n",
    "print(f\"\"\"\n",
    "True Negatives : {rf_tn}\n",
    "False Positives: {rf_fp}\n",
    "False Negatives: {rf_fn}\n",
    "True Positives : {rf_tp}\n",
    "\"\"\")"
   ]
  },
  {
   "cell_type": "code",
   "execution_count": 38,
   "metadata": {
    "scrolled": true
   },
   "outputs": [],
   "source": [
    "# FITTING the training data\n",
    "#rf_default_fit = rf_default.fit(x_train, y_train)\n",
    "\n",
    "\n",
    "# PREDICTING based on the testing set\n",
    "#rf_default_fit_pred = rf_default_fit.predict(x_test)\n",
    "\n",
    "\n",
    "# declaring a hyperparameter space\n",
    "#estimator_space  = pd.np.arange(600, 1100, 250)\n",
    "#leaf_space       = pd.np.arange(1, 30, 1)\n",
    "#depth_space      = pd.np.arange(1, 8, 1)\n",
    "#criterion_space  = ['gini', 'entropy']\n",
    "#bootstrap_space  = [True, False]\n",
    "#warm_start_space = [True, False]\n",
    "\n",
    "\n",
    "# creating a hyperparameter grid\n",
    "#param_grid = {'n_estimators'     : estimator_space,\n",
    " #             'min_samples_leaf' : leaf_space,\n",
    "  #            'max_depth'        : depth_space,\n",
    "   #           'criterion'        : criterion_space,\n",
    "    #          'bootstrap'        : bootstrap_space,\n",
    "     #         'warm_start'       : warm_start_space}\n",
    "\n",
    "\n",
    "# INSTANTIATING the model object without hyperparameters\n",
    "#forest_grid = RandomForestClassifier(random_state = 219)\n",
    "\n",
    "\n",
    "# GridSearchCV object\n",
    "#forest_cv = RandomizedSearchCV(estimator           = forest_grid,\n",
    " #                              param_distributions = param_grid,\n",
    "  #                             cv         = 3,\n",
    "   #                            n_iter     = 1000,\n",
    "    #                           scoring    = make_scorer(roc_auc_score,\n",
    "     #                                       needs_threshold = False))\n",
    "\n",
    "\n",
    "# FITTING to the FULL DATASET (due to cross-validation)\n",
    "#forest_cv.fit(app_df, app_target)\n",
    "\n",
    "\n",
    "# PREDICT step is not needed\n",
    "\n",
    "\n",
    "# printing the optimal parameters and best score\n",
    "#print(\"Tuned Parameters  :\", forest_cv.best_params_)\n",
    "#rint(\"Tuned Training AUC:\", forest_cv.best_score_.round(4))"
   ]
  },
  {
   "cell_type": "code",
   "execution_count": 39,
   "metadata": {},
   "outputs": [],
   "source": [
    "#forest_cv.best_estimator_"
   ]
  },
  {
   "cell_type": "code",
   "execution_count": 40,
   "metadata": {},
   "outputs": [
    {
     "name": "stdout",
     "output_type": "stream",
     "text": [
      "Forest Tuned Training ACCURACY: 0.8245\n",
      "Forest Tuned Testing  ACCURACY: 0.8275\n",
      "Forest Tuned AUC Score        : 0.7426\n"
     ]
    }
   ],
   "source": [
    "\n",
    "# building a model based on hyperparameter tuning results\n",
    "\n",
    "# copy/pasting in the best_estimator_ results\n",
    "# to avoid running another RandomizedSearch\n",
    "forest_tuned = RandomForestClassifier(bootstrap=False, criterion='entropy', max_depth=7,\n",
    "                       min_samples_leaf=3, n_estimators=850, random_state=219,\n",
    "                       warm_start=True)\n",
    "\n",
    "# FITTING the model object\n",
    "forest_tuned_fit = forest_tuned.fit(app_df, app_target)\n",
    "\n",
    "\n",
    "# PREDICTING based on the testing set\n",
    "forest_tuned_pred = forest_tuned_fit.predict(X_test)\n",
    "\n",
    "\n",
    "# SCORING the results\n",
    "print('Forest Tuned Training ACCURACY:', forest_tuned.score(X_train, y_train).round(4))\n",
    "print('Forest Tuned Testing  ACCURACY:', forest_tuned.score(X_test, y_test).round(4))\n",
    "print('Forest Tuned AUC Score        :', roc_auc_score(y_true  = y_test,\n",
    "                                                   y_score = forest_tuned_pred).round(4))\n",
    "\n",
    "\n",
    "# saving scoring data for future use\n",
    "forest_tuned_train_score = forest_tuned.score(X_train, y_train).round(4) # accuracy\n",
    "forest_tuned_test_score  = forest_tuned.score(X_test, y_test).round(4)   # accuracy\n",
    "\n",
    "\n",
    "# saving the AUC score\n",
    "forest_tuned_auc = roc_auc_score(y_true  = y_test,\n",
    "                                 y_score = forest_tuned_pred).round(4) # auc"
   ]
  },
  {
   "cell_type": "code",
   "execution_count": 41,
   "metadata": {},
   "outputs": [
    {
     "name": "stdout",
     "output_type": "stream",
     "text": [
      "\n",
      "True Negatives : 79\n",
      "False Positives: 77\n",
      "False Negatives: 7\n",
      "True Positives : 324\n",
      "\n"
     ]
    }
   ],
   "source": [
    "# unpacking the confusion matrix\n",
    "tuned_rf_tn, \\\n",
    "tuned_rf_fp, \\\n",
    "tuned_rf_fn, \\\n",
    "tuned_rf_tp = confusion_matrix(y_true = y_test, y_pred = forest_tuned_pred).ravel()\n",
    "\n",
    "\n",
    "# printing each result one-by-one\n",
    "print(f\"\"\"\n",
    "True Negatives : {tuned_rf_tn}\n",
    "False Positives: {tuned_rf_fp}\n",
    "False Negatives: {tuned_rf_fn}\n",
    "True Positives : {tuned_rf_tp}\n",
    "\"\"\")"
   ]
  },
  {
   "cell_type": "markdown",
   "metadata": {
    "deletable": false,
    "editable": false,
    "run_control": {
     "frozen": true
    }
   },
   "source": [
    "<h2> Classification Models Performance </h2><br>\n",
    "The highest performance id of the Random Forest Pruned Model with a AUC score of 0.7426 and a True Positive of 324 being the highest among other models. \n",
    "<br>\n",
    "This AOC score can further be improved by running different sets of hyper parameter tunning to get the best set of parameter for that model. Also the features can be improved by keeping only the important features. \n",
    "<br"
   ]
  },
  {
   "cell_type": "code",
   "execution_count": 42,
   "metadata": {},
   "outputs": [],
   "source": [
    "# creating a dictionary for model results\n",
    "model_performance = {\n",
    "    \n",
    "    'Model Name'    : ['Logistic', 'Full Tree', 'Tuned Tree', 'Random Forest full', 'Random Forest pruned'],\n",
    "           \n",
    "    'AUC Score' : [logreg_auc_score, full_tree_auc_score, tree_tuned_auc, rf_default_auc_score, forest_tuned_auc],\n",
    "    \n",
    "    'Training Accuracy' : [logreg_train_score, full_tree_train_score,\n",
    "                           tree_tuned_train_score, rf_default_train_score,\n",
    "                           forest_tuned_train_score],\n",
    "           \n",
    "    'Testing Accuracy'  : [logreg_test_score, full_tree_test_score,\n",
    "                           tree_tuned_test_score, rf_default_test_score,\n",
    "                           forest_tuned_test_score],\n",
    "\n",
    "    'Confusion Matrix'  : [(logreg_tn, logreg_fp, logreg_fn, logreg_tp),\n",
    "                           (full_tree_tn, full_tree_fp, full_tree_fn, full_tree_tp),\n",
    "                           (tuned_tree_tn, tuned_tree_fp, tuned_tree_fn, tuned_tree_tp),\n",
    "                           (rf_tn, rf_fp, rf_fn, rf_tp),\n",
    "                          (tuned_rf_tn, tuned_rf_fp, tuned_rf_fn, tuned_rf_tp)\n",
    "                          ]}\n",
    "\n",
    "\n",
    "# converting model_performance into a DataFrame\n",
    "model_performance = pd.DataFrame(model_performance)\n",
    "\n",
    "\n",
    "# sending model results to Excel\n",
    "model_performance.to_excel('./dataset/classification_model_performance.xlsx',\n",
    "                           index = False)"
   ]
  },
  {
   "cell_type": "code",
   "execution_count": 43,
   "metadata": {},
   "outputs": [
    {
     "data": {
      "text/html": [
       "<div>\n",
       "<style scoped>\n",
       "    .dataframe tbody tr th:only-of-type {\n",
       "        vertical-align: middle;\n",
       "    }\n",
       "\n",
       "    .dataframe tbody tr th {\n",
       "        vertical-align: top;\n",
       "    }\n",
       "\n",
       "    .dataframe thead th {\n",
       "        text-align: right;\n",
       "    }\n",
       "</style>\n",
       "<table border=\"1\" class=\"dataframe\">\n",
       "  <thead>\n",
       "    <tr style=\"text-align: right;\">\n",
       "      <th></th>\n",
       "      <th>Model Name</th>\n",
       "      <th>AUC Score</th>\n",
       "      <th>Training Accuracy</th>\n",
       "      <th>Testing Accuracy</th>\n",
       "      <th>Confusion Matrix</th>\n",
       "    </tr>\n",
       "  </thead>\n",
       "  <tbody>\n",
       "    <tr>\n",
       "      <th>0</th>\n",
       "      <td>Logistic</td>\n",
       "      <td>0.5676</td>\n",
       "      <td>0.7169</td>\n",
       "      <td>0.7002</td>\n",
       "      <td>(31, 125, 21, 310)</td>\n",
       "    </tr>\n",
       "    <tr>\n",
       "      <th>1</th>\n",
       "      <td>Full Tree</td>\n",
       "      <td>0.6197</td>\n",
       "      <td>1.0000</td>\n",
       "      <td>0.6674</td>\n",
       "      <td>(76, 80, 82, 249)</td>\n",
       "    </tr>\n",
       "    <tr>\n",
       "      <th>2</th>\n",
       "      <td>Tuned Tree</td>\n",
       "      <td>0.7320</td>\n",
       "      <td>0.7402</td>\n",
       "      <td>0.7762</td>\n",
       "      <td>(95, 61, 48, 283)</td>\n",
       "    </tr>\n",
       "    <tr>\n",
       "      <th>3</th>\n",
       "      <td>Random Forest full</td>\n",
       "      <td>0.6351</td>\n",
       "      <td>1.0000</td>\n",
       "      <td>0.7413</td>\n",
       "      <td>(53, 103, 23, 308)</td>\n",
       "    </tr>\n",
       "    <tr>\n",
       "      <th>4</th>\n",
       "      <td>Random Forest pruned</td>\n",
       "      <td>0.7426</td>\n",
       "      <td>0.8245</td>\n",
       "      <td>0.8275</td>\n",
       "      <td>(79, 77, 7, 324)</td>\n",
       "    </tr>\n",
       "  </tbody>\n",
       "</table>\n",
       "</div>"
      ],
      "text/plain": [
       "             Model Name  AUC Score  Training Accuracy  Testing Accuracy    Confusion Matrix\n",
       "0              Logistic     0.5676             0.7169            0.7002  (31, 125, 21, 310)\n",
       "1             Full Tree     0.6197             1.0000            0.6674   (76, 80, 82, 249)\n",
       "2            Tuned Tree     0.7320             0.7402            0.7762   (95, 61, 48, 283)\n",
       "3    Random Forest full     0.6351             1.0000            0.7413  (53, 103, 23, 308)\n",
       "4  Random Forest pruned     0.7426             0.8245            0.8275    (79, 77, 7, 324)"
      ]
     },
     "execution_count": 43,
     "metadata": {},
     "output_type": "execute_result"
    }
   ],
   "source": [
    "model_performance.head()"
   ]
  }
 ],
 "metadata": {
  "kernelspec": {
   "display_name": "Python 3",
   "language": "python",
   "name": "python3"
  },
  "language_info": {
   "codemirror_mode": {
    "name": "ipython",
    "version": 3
   },
   "file_extension": ".py",
   "mimetype": "text/x-python",
   "name": "python",
   "nbconvert_exporter": "python",
   "pygments_lexer": "ipython3",
   "version": "3.7.6"
  },
  "toc": {
   "base_numbering": 1,
   "nav_menu": {},
   "number_sections": true,
   "sideBar": true,
   "skip_h1_title": false,
   "title_cell": "Table of Contents",
   "title_sidebar": "Contents",
   "toc_cell": false,
   "toc_position": {},
   "toc_section_display": true,
   "toc_window_display": false
  },
  "varInspector": {
   "cols": {
    "lenName": 16,
    "lenType": 16,
    "lenVar": 40
   },
   "kernels_config": {
    "python": {
     "delete_cmd_postfix": "",
     "delete_cmd_prefix": "del ",
     "library": "var_list.py",
     "varRefreshCmd": "print(var_dic_list())"
    },
    "r": {
     "delete_cmd_postfix": ") ",
     "delete_cmd_prefix": "rm(",
     "library": "var_list.r",
     "varRefreshCmd": "cat(var_dic_list()) "
    }
   },
   "types_to_exclude": [
    "module",
    "function",
    "builtin_function_or_method",
    "instance",
    "_Feature"
   ],
   "window_display": false
  }
 },
 "nbformat": 4,
 "nbformat_minor": 4
}
